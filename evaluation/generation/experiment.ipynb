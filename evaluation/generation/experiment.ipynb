{
 "cells": [
  {
   "cell_type": "code",
   "execution_count": 29,
   "metadata": {},
   "outputs": [],
   "source": [
    "import pandas as pd"
   ]
  },
  {
   "cell_type": "code",
   "execution_count": 30,
   "metadata": {},
   "outputs": [],
   "source": [
    "df = pd.read_csv(\"generation_evaluation_results.csv\")"
   ]
  },
  {
   "cell_type": "code",
   "execution_count": 31,
   "metadata": {},
   "outputs": [
    {
     "data": {
      "text/html": [
       "<div>\n",
       "<style scoped>\n",
       "    .dataframe tbody tr th:only-of-type {\n",
       "        vertical-align: middle;\n",
       "    }\n",
       "\n",
       "    .dataframe tbody tr th {\n",
       "        vertical-align: top;\n",
       "    }\n",
       "\n",
       "    .dataframe thead th {\n",
       "        text-align: right;\n",
       "    }\n",
       "</style>\n",
       "<table border=\"1\" class=\"dataframe\">\n",
       "  <thead>\n",
       "    <tr style=\"text-align: right;\">\n",
       "      <th></th>\n",
       "      <th>query</th>\n",
       "      <th>answer</th>\n",
       "      <th>rating</th>\n",
       "      <th>evaluation_text</th>\n",
       "    </tr>\n",
       "  </thead>\n",
       "  <tbody>\n",
       "    <tr>\n",
       "      <th>0</th>\n",
       "      <td>I'm planning a weekend trip and want a scenic ...</td>\n",
       "      <td>Looks great — here are three short, scenic, pu...</td>\n",
       "      <td>2</td>\n",
       "      <td>The response includes useful details (short du...</td>\n",
       "    </tr>\n",
       "    <tr>\n",
       "      <th>1</th>\n",
       "      <td>My parents are visiting from out of town, so I...</td>\n",
       "      <td>If you need a very gentle walk with a campsite...</td>\n",
       "      <td>4</td>\n",
       "      <td>The answer is relevant and directly addresses ...</td>\n",
       "    </tr>\n",
       "  </tbody>\n",
       "</table>\n",
       "</div>"
      ],
      "text/plain": [
       "                                               query  \\\n",
       "0  I'm planning a weekend trip and want a scenic ...   \n",
       "1  My parents are visiting from out of town, so I...   \n",
       "\n",
       "                                              answer  rating  \\\n",
       "0  Looks great — here are three short, scenic, pu...       2   \n",
       "1  If you need a very gentle walk with a campsite...       4   \n",
       "\n",
       "                                     evaluation_text  \n",
       "0  The response includes useful details (short du...  \n",
       "1  The answer is relevant and directly addresses ...  "
      ]
     },
     "execution_count": 31,
     "metadata": {},
     "output_type": "execute_result"
    }
   ],
   "source": [
    "df"
   ]
  },
  {
   "cell_type": "code",
   "execution_count": 34,
   "metadata": {},
   "outputs": [
    {
     "name": "stdout",
     "output_type": "stream",
     "text": [
      "Looks great — here are three short, scenic, pup-friendly hikes that fit your under-3-hour requirement. All are easy, dog-friendly options with quick turnaround times so you can relax afterward.\n",
      "\n",
      "One Mile Lake (Pemberton) — This is the best fit in the Sea-to-Sky corridor. Easy 1.6 km loop (~45 minutes) with wooden boardwalks, a beach and a dedicated dog off-leash area. It’s very scenic with mountain views across the water and a safe, mostly flat trail that’s perfect for a relaxed outing with a puppy. Best season March–November; bring water, a towel for post-swim, and poop bags. Parking at the beach/park area; you can also access it from the Sea to Sky Trail coming from Nairn Falls if you want a slightly longer approach.\n",
      "\n",
      "Ruckle Loop (Ruckle Provincial Park, Salt Spring Island) — Short 1.3 km loop (~30 minutes), year-round, very coastal and scenic with viewpoints over Swanson Channel and arbutus trees. Great if you’re up for a short ferry hop to Salt Spring — the trail is dog-friendly and has easy terrain, beach access, and picnic spots. Practical notes: factor in ferry schedules and fees, keep your pup close near cliff edges, and bring water and a light blanket or towel for beach breaks.\n",
      "\n",
      "Mike Lake (Golden Ears Provincial Park) — Easy 2.0 km, ~45 minutes. A quiet lakeside walk with dock views and calm forest sections — great for pups who enjoy a short swim or sniff session. Note: from May 16 to Sep 1 (weekends/holidays) a free day‑use pass is required on some busy days — reserve through BC Parks ahead of time (available 2 days before). Trail is year-round; bring water, booties if the trail is muddy, and check parking lot signage for closures.\n",
      "\n",
      "Quick puppy tips: bring plenty of water, collapsible bowl, poop bags, a towel, and a short leash for viewpoints or busy parking areas. If your pup loves water, One Mile and Mike Lake are ideal; if you want a coastal vibe, Ruckle is lovely but requires ferry planning. Enjoy your weekend! 🐾\n"
     ]
    }
   ],
   "source": [
    "print(df.loc[0, 'answer'])"
   ]
  },
  {
   "cell_type": "code",
   "execution_count": 28,
   "metadata": {},
   "outputs": [
    {
     "name": "stdout",
     "output_type": "stream",
     "text": [
      "Nice brief — great idea to pair an easy walk with an overnight under the stars. From the three trails you found, two are in the Fraser Valley East area and match your “very gentle + campsite nearby” request especially well; the third is farther away and a bit rougher. Here’s a quick run‑through and practical advice.\n",
      "\n",
      "Derby Reach Regional Park (Langley) — Easy, 8.0 km, ~2.5 hr. This is my top pick for parents: very gentle, wide gravel/forest trails along the Fraser River and a nearby campground right in the park. The route described combines the Edge Trail and Houston loop, offering river views, quiet forest walking and a well‑maintained campground so you can easily spend the night. Good for year‑round use; expect mud in wetter months. Dogs allowed. Check park/campground booking rules and arrive early for parking in summer.\n",
      "\n",
      "Brae Island Regional Park (Surrey/Langley) — Easy, 4.2 km, ~1 hr. Great second option if you want a shorter, very gentle outing. Wide gravel trails, viewpoints at Tavistock Point overlooking the Fraser, picnic spots, and a family‑friendly campsite adjacent to the trail. Very stroller/family friendly and peaceful for an evening under the stars. Also open year‑round; dogs allowed.\n",
      "\n",
      "Homesite Caves Trail (Sunshine Coast) — Easy but rugged, 1.5 km, ~45 min. This one ends at a campsite, but it’s on the Sunshine Coast (not in Fraser Valley East) and the terrain has rocky creek crossings, fallen logs and unstable caves — not ideal if you want a very gentle stroll for older parents. Mentioned here only because it has camping, but I’d recommend Derby Reach or Brae Island first.\n",
      "\n",
      "Practical tips: check campsite reservation rules and current trail conditions before you go. Bring layers, warm sleeping bag, headlamp/lantern, water, insect repellent, and a small stove if fires are restricted. Store food securely and follow park rules (bear/food storage is good practice even if sightings are rare). Summer and early fall are ideal for camping; trails are fine year‑round but wetter in shoulder seasons. Park early on busy weekends.\n",
      "\n",
      "If you want, I can check campsite booking links and suggest which loop/campsite spots are best for an easy overnight near Derby Reach or Brae Island. 😊\n"
     ]
    }
   ],
   "source": [
    "print(df.loc[1, 'answer'])"
   ]
  },
  {
   "cell_type": "code",
   "execution_count": null,
   "metadata": {},
   "outputs": [],
   "source": []
  }
 ],
 "metadata": {
  "kernelspec": {
   "display_name": "Python 3",
   "language": "python",
   "name": "python3"
  },
  "language_info": {
   "codemirror_mode": {
    "name": "ipython",
    "version": 3
   },
   "file_extension": ".py",
   "mimetype": "text/x-python",
   "name": "python",
   "nbconvert_exporter": "python",
   "pygments_lexer": "ipython3",
   "version": "3.11.13"
  }
 },
 "nbformat": 4,
 "nbformat_minor": 2
}
