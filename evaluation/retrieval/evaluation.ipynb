{
 "cells": [
  {
   "cell_type": "code",
   "execution_count": 10,
   "metadata": {},
   "outputs": [],
   "source": [
    "import pandas as pd\n",
    "\n",
    "df = pd.read_csv(\"test_retrieval_result.csv\")"
   ]
  },
  {
   "cell_type": "code",
   "execution_count": 12,
   "metadata": {},
   "outputs": [
    {
     "data": {
      "text/plain": [
       "(135, 4)"
      ]
     },
     "execution_count": 12,
     "metadata": {},
     "output_type": "execute_result"
    }
   ],
   "source": [
    "df.shape"
   ]
  },
  {
   "cell_type": "code",
   "execution_count": 11,
   "metadata": {},
   "outputs": [
    {
     "data": {
      "text/html": [
       "<div>\n",
       "<style scoped>\n",
       "    .dataframe tbody tr th:only-of-type {\n",
       "        vertical-align: middle;\n",
       "    }\n",
       "\n",
       "    .dataframe tbody tr th {\n",
       "        vertical-align: top;\n",
       "    }\n",
       "\n",
       "    .dataframe thead th {\n",
       "        text-align: right;\n",
       "    }\n",
       "</style>\n",
       "<table border=\"1\" class=\"dataframe\">\n",
       "  <thead>\n",
       "    <tr style=\"text-align: right;\">\n",
       "      <th></th>\n",
       "      <th>query</th>\n",
       "      <th>filters_dict</th>\n",
       "      <th>qdrant_filter</th>\n",
       "      <th>payload</th>\n",
       "    </tr>\n",
       "  </thead>\n",
       "  <tbody>\n",
       "    <tr>\n",
       "      <th>0</th>\n",
       "      <td>I'm planning a weekend trip and want a scenic ...</td>\n",
       "      <td>{'time_max': 3.0, 'dog_friendly': True}</td>\n",
       "      <td>should=None min_should=None must=[FieldConditi...</td>\n",
       "      <td>{'time': 0.75, 'dog_friendly': True}</td>\n",
       "    </tr>\n",
       "    <tr>\n",
       "      <th>1</th>\n",
       "      <td>I'm planning a weekend trip and want a scenic ...</td>\n",
       "      <td>{'time_max': 3.0, 'dog_friendly': True}</td>\n",
       "      <td>should=None min_should=None must=[FieldConditi...</td>\n",
       "      <td>{'time': 3.0, 'dog_friendly': True}</td>\n",
       "    </tr>\n",
       "    <tr>\n",
       "      <th>2</th>\n",
       "      <td>I'm planning a weekend trip and want a scenic ...</td>\n",
       "      <td>{'time_max': 3.0, 'dog_friendly': True}</td>\n",
       "      <td>should=None min_should=None must=[FieldConditi...</td>\n",
       "      <td>{'time': 1.5, 'dog_friendly': True}</td>\n",
       "    </tr>\n",
       "    <tr>\n",
       "      <th>3</th>\n",
       "      <td>My parents are visiting from out of town, so I...</td>\n",
       "      <td>{'difficulty': 'Easy', 'camping': True}</td>\n",
       "      <td>should=None min_should=None must=[FieldConditi...</td>\n",
       "      <td>{'difficulty': 'Easy', 'camping': True}</td>\n",
       "    </tr>\n",
       "    <tr>\n",
       "      <th>4</th>\n",
       "      <td>My parents are visiting from out of town, so I...</td>\n",
       "      <td>{'difficulty': 'Easy', 'camping': True}</td>\n",
       "      <td>should=None min_should=None must=[FieldConditi...</td>\n",
       "      <td>{'difficulty': 'Easy', 'camping': True}</td>\n",
       "    </tr>\n",
       "  </tbody>\n",
       "</table>\n",
       "</div>"
      ],
      "text/plain": [
       "                                               query  \\\n",
       "0  I'm planning a weekend trip and want a scenic ...   \n",
       "1  I'm planning a weekend trip and want a scenic ...   \n",
       "2  I'm planning a weekend trip and want a scenic ...   \n",
       "3  My parents are visiting from out of town, so I...   \n",
       "4  My parents are visiting from out of town, so I...   \n",
       "\n",
       "                              filters_dict  \\\n",
       "0  {'time_max': 3.0, 'dog_friendly': True}   \n",
       "1  {'time_max': 3.0, 'dog_friendly': True}   \n",
       "2  {'time_max': 3.0, 'dog_friendly': True}   \n",
       "3  {'difficulty': 'Easy', 'camping': True}   \n",
       "4  {'difficulty': 'Easy', 'camping': True}   \n",
       "\n",
       "                                       qdrant_filter  \\\n",
       "0  should=None min_should=None must=[FieldConditi...   \n",
       "1  should=None min_should=None must=[FieldConditi...   \n",
       "2  should=None min_should=None must=[FieldConditi...   \n",
       "3  should=None min_should=None must=[FieldConditi...   \n",
       "4  should=None min_should=None must=[FieldConditi...   \n",
       "\n",
       "                                   payload  \n",
       "0     {'time': 0.75, 'dog_friendly': True}  \n",
       "1      {'time': 3.0, 'dog_friendly': True}  \n",
       "2      {'time': 1.5, 'dog_friendly': True}  \n",
       "3  {'difficulty': 'Easy', 'camping': True}  \n",
       "4  {'difficulty': 'Easy', 'camping': True}  "
      ]
     },
     "execution_count": 11,
     "metadata": {},
     "output_type": "execute_result"
    }
   ],
   "source": [
    "df.head(5)"
   ]
  }
 ],
 "metadata": {
  "kernelspec": {
   "display_name": "Python 3",
   "language": "python",
   "name": "python3"
  },
  "language_info": {
   "codemirror_mode": {
    "name": "ipython",
    "version": 3
   },
   "file_extension": ".py",
   "mimetype": "text/x-python",
   "name": "python",
   "nbconvert_exporter": "python",
   "pygments_lexer": "ipython3",
   "version": "3.11.13"
  }
 },
 "nbformat": 4,
 "nbformat_minor": 2
}
