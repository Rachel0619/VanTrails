{
 "cells": [
  {
   "cell_type": "code",
   "execution_count": 8,
   "metadata": {},
   "outputs": [],
   "source": [
    "import pandas as pd"
   ]
  },
  {
   "cell_type": "code",
   "execution_count": 9,
   "metadata": {},
   "outputs": [],
   "source": [
    "df = pd.read_csv(\"data/vancouver_trails.csv\")"
   ]
  },
  {
   "cell_type": "code",
   "execution_count": 10,
   "metadata": {},
   "outputs": [
    {
     "data": {
      "text/html": [
       "<div>\n",
       "<style scoped>\n",
       "    .dataframe tbody tr th:only-of-type {\n",
       "        vertical-align: middle;\n",
       "    }\n",
       "\n",
       "    .dataframe tbody tr th {\n",
       "        vertical-align: top;\n",
       "    }\n",
       "\n",
       "    .dataframe thead th {\n",
       "        text-align: right;\n",
       "    }\n",
       "</style>\n",
       "<table border=\"1\" class=\"dataframe\">\n",
       "  <thead>\n",
       "    <tr style=\"text-align: right;\">\n",
       "      <th></th>\n",
       "      <th>name</th>\n",
       "      <th>rating</th>\n",
       "      <th>region</th>\n",
       "      <th>difficulty</th>\n",
       "      <th>time</th>\n",
       "      <th>distance</th>\n",
       "      <th>season</th>\n",
       "      <th>url</th>\n",
       "      <th>description</th>\n",
       "    </tr>\n",
       "  </thead>\n",
       "  <tbody>\n",
       "    <tr>\n",
       "      <th>0</th>\n",
       "      <td>Abby Grind</td>\n",
       "      <td>4.32258</td>\n",
       "      <td>Fraser Valley East</td>\n",
       "      <td>Intermediate</td>\n",
       "      <td>1.5 hours</td>\n",
       "      <td>4km</td>\n",
       "      <td>year-round</td>\n",
       "      <td>https://www.vancouvertrails.com/trails/abby-gr...</td>\n",
       "      <td>The Abby Grind is a steep hike that gains abou...</td>\n",
       "    </tr>\n",
       "    <tr>\n",
       "      <th>1</th>\n",
       "      <td>Admiralty Point</td>\n",
       "      <td>4.50000</td>\n",
       "      <td>Tri Cities</td>\n",
       "      <td>Easy</td>\n",
       "      <td>1.5 hours</td>\n",
       "      <td>5km</td>\n",
       "      <td>year-round</td>\n",
       "      <td>https://www.vancouvertrails.com/trails/admiral...</td>\n",
       "      <td>Located in Belcarra Regional Park, Admiralty P...</td>\n",
       "    </tr>\n",
       "    <tr>\n",
       "      <th>2</th>\n",
       "      <td>Al's Habrich Ridge Trail</td>\n",
       "      <td>4.25000</td>\n",
       "      <td>Howe Sound</td>\n",
       "      <td>Intermediate</td>\n",
       "      <td>5 hours</td>\n",
       "      <td>7km</td>\n",
       "      <td>July - October</td>\n",
       "      <td>https://www.vancouvertrails.com/trails/als-hab...</td>\n",
       "      <td>Starting from the top of the Sea To Sky Gondol...</td>\n",
       "    </tr>\n",
       "    <tr>\n",
       "      <th>3</th>\n",
       "      <td>Alaksen National Wildlife Area</td>\n",
       "      <td>0.00000</td>\n",
       "      <td>Tsawwassen and Delta</td>\n",
       "      <td>Easy</td>\n",
       "      <td>2 hours</td>\n",
       "      <td>7.5km</td>\n",
       "      <td>year-round</td>\n",
       "      <td>https://www.vancouvertrails.com/trails/alaksen...</td>\n",
       "      <td>Alaksen National Wildlife Area is only openMon...</td>\n",
       "    </tr>\n",
       "    <tr>\n",
       "      <th>4</th>\n",
       "      <td>Aldergrove Regional Park</td>\n",
       "      <td>4.40000</td>\n",
       "      <td>Surrey and Langley</td>\n",
       "      <td>Easy</td>\n",
       "      <td>2 hours</td>\n",
       "      <td>5km</td>\n",
       "      <td>year-round</td>\n",
       "      <td>https://www.vancouvertrails.com/trails/aldergr...</td>\n",
       "      <td>Aldergrove Regional Park is located on the bor...</td>\n",
       "    </tr>\n",
       "  </tbody>\n",
       "</table>\n",
       "</div>"
      ],
      "text/plain": [
       "                             name   rating                region  \\\n",
       "0                      Abby Grind  4.32258    Fraser Valley East   \n",
       "1                 Admiralty Point  4.50000            Tri Cities   \n",
       "2        Al's Habrich Ridge Trail  4.25000            Howe Sound   \n",
       "3  Alaksen National Wildlife Area  0.00000  Tsawwassen and Delta   \n",
       "4        Aldergrove Regional Park  4.40000    Surrey and Langley   \n",
       "\n",
       "     difficulty       time distance          season  \\\n",
       "0  Intermediate  1.5 hours      4km      year-round   \n",
       "1          Easy  1.5 hours      5km      year-round   \n",
       "2  Intermediate    5 hours      7km  July - October   \n",
       "3          Easy    2 hours    7.5km      year-round   \n",
       "4          Easy    2 hours      5km      year-round   \n",
       "\n",
       "                                                 url  \\\n",
       "0  https://www.vancouvertrails.com/trails/abby-gr...   \n",
       "1  https://www.vancouvertrails.com/trails/admiral...   \n",
       "2  https://www.vancouvertrails.com/trails/als-hab...   \n",
       "3  https://www.vancouvertrails.com/trails/alaksen...   \n",
       "4  https://www.vancouvertrails.com/trails/aldergr...   \n",
       "\n",
       "                                         description  \n",
       "0  The Abby Grind is a steep hike that gains abou...  \n",
       "1  Located in Belcarra Regional Park, Admiralty P...  \n",
       "2  Starting from the top of the Sea To Sky Gondol...  \n",
       "3  Alaksen National Wildlife Area is only openMon...  \n",
       "4  Aldergrove Regional Park is located on the bor...  "
      ]
     },
     "execution_count": 10,
     "metadata": {},
     "output_type": "execute_result"
    }
   ],
   "source": [
    "df.head()"
   ]
  },
  {
   "cell_type": "code",
   "execution_count": 11,
   "metadata": {},
   "outputs": [
    {
     "data": {
      "text/plain": [
       "(227, 9)"
      ]
     },
     "execution_count": 11,
     "metadata": {},
     "output_type": "execute_result"
    }
   ],
   "source": [
    "df.shape"
   ]
  },
  {
   "cell_type": "code",
   "execution_count": 12,
   "metadata": {},
   "outputs": [
    {
     "data": {
      "text/plain": [
       "Index(['name', 'rating', 'region', 'difficulty', 'time', 'distance', 'season',\n",
       "       'url', 'description'],\n",
       "      dtype='object')"
      ]
     },
     "execution_count": 12,
     "metadata": {},
     "output_type": "execute_result"
    }
   ],
   "source": [
    "df.columns"
   ]
  },
  {
   "cell_type": "code",
   "execution_count": null,
   "metadata": {},
   "outputs": [],
   "source": []
  }
 ],
 "metadata": {
  "kernelspec": {
   "display_name": "Python 3",
   "language": "python",
   "name": "python3"
  },
  "language_info": {
   "codemirror_mode": {
    "name": "ipython",
    "version": 3
   },
   "file_extension": ".py",
   "mimetype": "text/x-python",
   "name": "python",
   "nbconvert_exporter": "python",
   "pygments_lexer": "ipython3",
   "version": "3.11.13"
  }
 },
 "nbformat": 4,
 "nbformat_minor": 2
}
