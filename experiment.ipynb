{
 "cells": [
  {
   "cell_type": "code",
   "execution_count": 66,
   "metadata": {},
   "outputs": [],
   "source": [
    "import pandas as pd"
   ]
  },
  {
   "cell_type": "code",
   "execution_count": 67,
   "metadata": {},
   "outputs": [],
   "source": [
    "df = pd.read_csv(\"data/vancouver_trails.csv\")"
   ]
  },
  {
   "cell_type": "code",
   "execution_count": 68,
   "metadata": {},
   "outputs": [
    {
     "data": {
      "text/html": [
       "<div>\n",
       "<style scoped>\n",
       "    .dataframe tbody tr th:only-of-type {\n",
       "        vertical-align: middle;\n",
       "    }\n",
       "\n",
       "    .dataframe tbody tr th {\n",
       "        vertical-align: top;\n",
       "    }\n",
       "\n",
       "    .dataframe thead th {\n",
       "        text-align: right;\n",
       "    }\n",
       "</style>\n",
       "<table border=\"1\" class=\"dataframe\">\n",
       "  <thead>\n",
       "    <tr style=\"text-align: right;\">\n",
       "      <th></th>\n",
       "      <th>name</th>\n",
       "      <th>rating</th>\n",
       "      <th>region</th>\n",
       "      <th>difficulty</th>\n",
       "      <th>time</th>\n",
       "      <th>distance</th>\n",
       "      <th>season</th>\n",
       "      <th>dog_friendly</th>\n",
       "      <th>no_dogs_allowed</th>\n",
       "      <th>public_transit</th>\n",
       "      <th>camping</th>\n",
       "      <th>url</th>\n",
       "      <th>description</th>\n",
       "    </tr>\n",
       "  </thead>\n",
       "  <tbody>\n",
       "    <tr>\n",
       "      <th>0</th>\n",
       "      <td>Abby Grind</td>\n",
       "      <td>4.32258</td>\n",
       "      <td>Fraser Valley East</td>\n",
       "      <td>Intermediate</td>\n",
       "      <td>1.5 hours</td>\n",
       "      <td>4km</td>\n",
       "      <td>year-round</td>\n",
       "      <td>True</td>\n",
       "      <td>False</td>\n",
       "      <td>False</td>\n",
       "      <td>False</td>\n",
       "      <td>https://www.vancouvertrails.com/trails/abby-gr...</td>\n",
       "      <td>The Abby Grind is a steep hike that gains abou...</td>\n",
       "    </tr>\n",
       "    <tr>\n",
       "      <th>1</th>\n",
       "      <td>Admiralty Point</td>\n",
       "      <td>4.50000</td>\n",
       "      <td>Tri Cities</td>\n",
       "      <td>Easy</td>\n",
       "      <td>1.5 hours</td>\n",
       "      <td>5km</td>\n",
       "      <td>year-round</td>\n",
       "      <td>True</td>\n",
       "      <td>False</td>\n",
       "      <td>True</td>\n",
       "      <td>False</td>\n",
       "      <td>https://www.vancouvertrails.com/trails/admiral...</td>\n",
       "      <td>Located in Belcarra Regional Park, Admiralty P...</td>\n",
       "    </tr>\n",
       "    <tr>\n",
       "      <th>2</th>\n",
       "      <td>Al's Habrich Ridge Trail</td>\n",
       "      <td>4.25000</td>\n",
       "      <td>Howe Sound</td>\n",
       "      <td>Intermediate</td>\n",
       "      <td>5 hours</td>\n",
       "      <td>7km</td>\n",
       "      <td>July - October</td>\n",
       "      <td>False</td>\n",
       "      <td>True</td>\n",
       "      <td>False</td>\n",
       "      <td>False</td>\n",
       "      <td>https://www.vancouvertrails.com/trails/als-hab...</td>\n",
       "      <td>Starting from the top of the Sea To Sky Gondol...</td>\n",
       "    </tr>\n",
       "    <tr>\n",
       "      <th>3</th>\n",
       "      <td>Alaksen National Wildlife Area</td>\n",
       "      <td>0.00000</td>\n",
       "      <td>Tsawwassen and Delta</td>\n",
       "      <td>Easy</td>\n",
       "      <td>2 hours</td>\n",
       "      <td>7.5km</td>\n",
       "      <td>year-round</td>\n",
       "      <td>True</td>\n",
       "      <td>False</td>\n",
       "      <td>False</td>\n",
       "      <td>False</td>\n",
       "      <td>https://www.vancouvertrails.com/trails/alaksen...</td>\n",
       "      <td>Alaksen National Wildlife Area is only openMon...</td>\n",
       "    </tr>\n",
       "    <tr>\n",
       "      <th>4</th>\n",
       "      <td>Aldergrove Regional Park</td>\n",
       "      <td>4.40000</td>\n",
       "      <td>Surrey and Langley</td>\n",
       "      <td>Easy</td>\n",
       "      <td>2 hours</td>\n",
       "      <td>5km</td>\n",
       "      <td>year-round</td>\n",
       "      <td>True</td>\n",
       "      <td>False</td>\n",
       "      <td>False</td>\n",
       "      <td>False</td>\n",
       "      <td>https://www.vancouvertrails.com/trails/aldergr...</td>\n",
       "      <td>Aldergrove Regional Park is located on the bor...</td>\n",
       "    </tr>\n",
       "  </tbody>\n",
       "</table>\n",
       "</div>"
      ],
      "text/plain": [
       "                             name   rating                region  \\\n",
       "0                      Abby Grind  4.32258    Fraser Valley East   \n",
       "1                 Admiralty Point  4.50000            Tri Cities   \n",
       "2        Al's Habrich Ridge Trail  4.25000            Howe Sound   \n",
       "3  Alaksen National Wildlife Area  0.00000  Tsawwassen and Delta   \n",
       "4        Aldergrove Regional Park  4.40000    Surrey and Langley   \n",
       "\n",
       "     difficulty       time distance          season  dog_friendly  \\\n",
       "0  Intermediate  1.5 hours      4km      year-round          True   \n",
       "1          Easy  1.5 hours      5km      year-round          True   \n",
       "2  Intermediate    5 hours      7km  July - October         False   \n",
       "3          Easy    2 hours    7.5km      year-round          True   \n",
       "4          Easy    2 hours      5km      year-round          True   \n",
       "\n",
       "   no_dogs_allowed  public_transit  camping  \\\n",
       "0            False           False    False   \n",
       "1            False            True    False   \n",
       "2             True           False    False   \n",
       "3            False           False    False   \n",
       "4            False           False    False   \n",
       "\n",
       "                                                 url  \\\n",
       "0  https://www.vancouvertrails.com/trails/abby-gr...   \n",
       "1  https://www.vancouvertrails.com/trails/admiral...   \n",
       "2  https://www.vancouvertrails.com/trails/als-hab...   \n",
       "3  https://www.vancouvertrails.com/trails/alaksen...   \n",
       "4  https://www.vancouvertrails.com/trails/aldergr...   \n",
       "\n",
       "                                         description  \n",
       "0  The Abby Grind is a steep hike that gains abou...  \n",
       "1  Located in Belcarra Regional Park, Admiralty P...  \n",
       "2  Starting from the top of the Sea To Sky Gondol...  \n",
       "3  Alaksen National Wildlife Area is only openMon...  \n",
       "4  Aldergrove Regional Park is located on the bor...  "
      ]
     },
     "execution_count": 68,
     "metadata": {},
     "output_type": "execute_result"
    }
   ],
   "source": [
    "df.head()"
   ]
  },
  {
   "cell_type": "code",
   "execution_count": 69,
   "metadata": {},
   "outputs": [
    {
     "data": {
      "text/plain": [
       "(227, 13)"
      ]
     },
     "execution_count": 69,
     "metadata": {},
     "output_type": "execute_result"
    }
   ],
   "source": [
    "df.shape"
   ]
  },
  {
   "cell_type": "code",
   "execution_count": 70,
   "metadata": {},
   "outputs": [
    {
     "data": {
      "text/plain": [
       "Index(['name', 'rating', 'region', 'difficulty', 'time', 'distance', 'season',\n",
       "       'dog_friendly', 'no_dogs_allowed', 'public_transit', 'camping', 'url',\n",
       "       'description'],\n",
       "      dtype='object')"
      ]
     },
     "execution_count": 70,
     "metadata": {},
     "output_type": "execute_result"
    }
   ],
   "source": [
    "df.columns"
   ]
  },
  {
   "cell_type": "code",
   "execution_count": 71,
   "metadata": {},
   "outputs": [
    {
     "name": "stdout",
     "output_type": "stream",
     "text": [
      "Starting from the top of the Sea To Sky Gondola, the Al's Habrich Ridge Trail rises into the backcountry to offer incredible views of Howe Sound and the community of Squamish, BC. The route goes just beyond Neverland Lake and an extended route can be hiked to Neverland Falls. The Al's Habrich Ridge Trail is best done by taking the Sea To Sky gondola to the top but can also be done after hiking the Sea To Summit route from the bottom of the gondola. Walk to the area behind the Gondola and down the gravel road as you enter the backcountry. At the bottom, walk up the gravel road on the other side as it passes some water pumps and then a rock climbing area. At the first junction, go left following the signs up a separate gravel road. Continue past another clearing to your left  until you reach a sign on your left where the trail enters the forest to the Al's Habrich Route. The trail immediately crosses a small creek, which is sometimes dry in the later summer months. Continue following the trail markers as the route climbs quickly, passing over loose dirt. The trail will eventually reach a large rock with a rope hanging down to assist in pulling yourself to the top. Just beyond the rope assist is a second, smaller rope. Pull yourself to the top of both before continuing to make your way uphill. Just beyond the rope assists, the trail begins to open up and follow a ridge along a granite rocky outcrop. Watch for markers and follow the route as it's easy to lose the trail through this section. There are occasional views of the mountain ranges to the west of Howe Sound and the views get better the higher you climb. The trail eventually reaches the top of this rocky ridge before dropping down into an old growth forest of yellow cedars. Follow the dirt trail through the forest as it climbs fairly steeply, being careful not to trip over the occasional exposed tree root. The trail will eventually begin to descend between two large rocks before it opens up with an incredible view of Howe Sound. On a clear day, the view will extend through a good portion of Howe Sound and north of Squamish. For a better view, backtrack along the trail for about 20-meters then scramble up the mountain to your left onto the large rock. From the top, you will be able to see a similar view of Howe Sound and Squamish but also view the Chief and several of the mountains in Garibaldi Provincial Park. To continue the trail from where you first arrived at the view (if you scrambled to the top, carefully make your way back down), you will go left on the rocky granite and walk along the ridge admiring the view. There are the occasional blue arrows painted onto the rock pointing the direction to where you need to go. At the end of the ridge, the route steps off the back of the ridge and onto a dirt trail that enters the forest. Follow this trail as it meanders through the trees, first passing a junction to the trail that takes you to the high ridge, then passing a junction with a trail that takes you to Neverland Falls. Not far beyond the second junction, you reach Neverland Lake, a small lake that has a small waterfall on the far end up to the early summer. There are a couple of additional viewpoints beyond the lake that are within 10-minutes or so. To continue, walk to the far end of the lake, cross the rocks where the river drains, then walk up the rocky steps, following the trail at the top. The trail dips down into the trees before rising onto another rocky outcrop with a view of Howe Sound. Continue to the right, following the ridge as you make your way to the top a few minutes later. The views at the top include Howe Sound and northward towards Garibaldi. This area marks the end of the Al's Habrich Ridge Trail. Before returning, those who want to add another 1-hour longer to their trip can complete the Neverland Loop Trail, which begins at the first junction beyond the lake on your way back. Go right and follow the trail uphill through the old growth forest. This route passes the Neverland Falls, which is a scenic waterfall, which is best viewed earlier in the summer before the snowpack melts. Return to the Sea To Sky Gondola by following the forested trail back around, then walking along the ridge with the incredible view. Walk up into the forest as it then descends quickly before arriving at the lower granite ridge. Carefully watch for the trail markers as you walk along the ridge, make your way back down the rope-assists, and then return to the gravel road before reaching the gondola where you began.\n"
     ]
    }
   ],
   "source": [
    "print(df.iloc[2]['description'])"
   ]
  },
  {
   "cell_type": "code",
   "execution_count": 72,
   "metadata": {},
   "outputs": [
    {
     "name": "stdout",
     "output_type": "stream",
     "text": [
      "184\n",
      "43\n",
      "46\n",
      "69\n"
     ]
    }
   ],
   "source": [
    "print(sum(df['dog_friendly']))\n",
    "print(sum(df['no_dogs_allowed']))\n",
    "print(sum(df['camping']))\n",
    "print(sum(df['public_transit']))"
   ]
  },
  {
   "cell_type": "markdown",
   "metadata": {},
   "source": [
    "### Data Cleaning"
   ]
  },
  {
   "cell_type": "code",
   "execution_count": 73,
   "metadata": {},
   "outputs": [],
   "source": [
    "df = pd.read_csv(\"data/vancouver_trails_clean.csv\")"
   ]
  },
  {
   "cell_type": "code",
   "execution_count": 74,
   "metadata": {},
   "outputs": [
    {
     "data": {
      "text/html": [
       "<div>\n",
       "<style scoped>\n",
       "    .dataframe tbody tr th:only-of-type {\n",
       "        vertical-align: middle;\n",
       "    }\n",
       "\n",
       "    .dataframe tbody tr th {\n",
       "        vertical-align: top;\n",
       "    }\n",
       "\n",
       "    .dataframe thead th {\n",
       "        text-align: right;\n",
       "    }\n",
       "</style>\n",
       "<table border=\"1\" class=\"dataframe\">\n",
       "  <thead>\n",
       "    <tr style=\"text-align: right;\">\n",
       "      <th></th>\n",
       "      <th>name</th>\n",
       "      <th>rating</th>\n",
       "      <th>region</th>\n",
       "      <th>difficulty</th>\n",
       "      <th>time</th>\n",
       "      <th>distance</th>\n",
       "      <th>season</th>\n",
       "      <th>dog_friendly</th>\n",
       "      <th>no_dogs_allowed</th>\n",
       "      <th>public_transit</th>\n",
       "      <th>camping</th>\n",
       "      <th>url</th>\n",
       "      <th>description</th>\n",
       "    </tr>\n",
       "  </thead>\n",
       "  <tbody>\n",
       "    <tr>\n",
       "      <th>0</th>\n",
       "      <td>Abby Grind</td>\n",
       "      <td>4.3</td>\n",
       "      <td>Fraser Valley East</td>\n",
       "      <td>Intermediate</td>\n",
       "      <td>1.5</td>\n",
       "      <td>4.0</td>\n",
       "      <td>year-round</td>\n",
       "      <td>True</td>\n",
       "      <td>False</td>\n",
       "      <td>False</td>\n",
       "      <td>False</td>\n",
       "      <td>https://www.vancouvertrails.com/trails/abby-gr...</td>\n",
       "      <td>The Abby Grind is a steep hike that gains abou...</td>\n",
       "    </tr>\n",
       "    <tr>\n",
       "      <th>1</th>\n",
       "      <td>Admiralty Point</td>\n",
       "      <td>4.5</td>\n",
       "      <td>Tri Cities</td>\n",
       "      <td>Easy</td>\n",
       "      <td>1.5</td>\n",
       "      <td>5.0</td>\n",
       "      <td>year-round</td>\n",
       "      <td>True</td>\n",
       "      <td>False</td>\n",
       "      <td>True</td>\n",
       "      <td>False</td>\n",
       "      <td>https://www.vancouvertrails.com/trails/admiral...</td>\n",
       "      <td>Located in Belcarra Regional Park, Admiralty P...</td>\n",
       "    </tr>\n",
       "    <tr>\n",
       "      <th>2</th>\n",
       "      <td>Al's Habrich Ridge Trail</td>\n",
       "      <td>4.2</td>\n",
       "      <td>Howe Sound</td>\n",
       "      <td>Intermediate</td>\n",
       "      <td>5.0</td>\n",
       "      <td>7.0</td>\n",
       "      <td>July - October</td>\n",
       "      <td>False</td>\n",
       "      <td>True</td>\n",
       "      <td>False</td>\n",
       "      <td>False</td>\n",
       "      <td>https://www.vancouvertrails.com/trails/als-hab...</td>\n",
       "      <td>Starting from the top of the Sea To Sky Gondol...</td>\n",
       "    </tr>\n",
       "    <tr>\n",
       "      <th>3</th>\n",
       "      <td>Alaksen National Wildlife Area</td>\n",
       "      <td>0.0</td>\n",
       "      <td>Tsawwassen and Delta</td>\n",
       "      <td>Easy</td>\n",
       "      <td>2.0</td>\n",
       "      <td>7.5</td>\n",
       "      <td>year-round</td>\n",
       "      <td>True</td>\n",
       "      <td>False</td>\n",
       "      <td>False</td>\n",
       "      <td>False</td>\n",
       "      <td>https://www.vancouvertrails.com/trails/alaksen...</td>\n",
       "      <td>Alaksen National Wildlife Area is only openMon...</td>\n",
       "    </tr>\n",
       "    <tr>\n",
       "      <th>4</th>\n",
       "      <td>Aldergrove Regional Park</td>\n",
       "      <td>4.4</td>\n",
       "      <td>Surrey and Langley</td>\n",
       "      <td>Easy</td>\n",
       "      <td>2.0</td>\n",
       "      <td>5.0</td>\n",
       "      <td>year-round</td>\n",
       "      <td>True</td>\n",
       "      <td>False</td>\n",
       "      <td>False</td>\n",
       "      <td>False</td>\n",
       "      <td>https://www.vancouvertrails.com/trails/aldergr...</td>\n",
       "      <td>Aldergrove Regional Park is located on the bor...</td>\n",
       "    </tr>\n",
       "  </tbody>\n",
       "</table>\n",
       "</div>"
      ],
      "text/plain": [
       "                             name  rating                region    difficulty  \\\n",
       "0                      Abby Grind     4.3    Fraser Valley East  Intermediate   \n",
       "1                 Admiralty Point     4.5            Tri Cities          Easy   \n",
       "2        Al's Habrich Ridge Trail     4.2            Howe Sound  Intermediate   \n",
       "3  Alaksen National Wildlife Area     0.0  Tsawwassen and Delta          Easy   \n",
       "4        Aldergrove Regional Park     4.4    Surrey and Langley          Easy   \n",
       "\n",
       "   time  distance          season  dog_friendly  no_dogs_allowed  \\\n",
       "0   1.5       4.0      year-round          True            False   \n",
       "1   1.5       5.0      year-round          True            False   \n",
       "2   5.0       7.0  July - October         False             True   \n",
       "3   2.0       7.5      year-round          True            False   \n",
       "4   2.0       5.0      year-round          True            False   \n",
       "\n",
       "   public_transit  camping                                                url  \\\n",
       "0           False    False  https://www.vancouvertrails.com/trails/abby-gr...   \n",
       "1            True    False  https://www.vancouvertrails.com/trails/admiral...   \n",
       "2           False    False  https://www.vancouvertrails.com/trails/als-hab...   \n",
       "3           False    False  https://www.vancouvertrails.com/trails/alaksen...   \n",
       "4           False    False  https://www.vancouvertrails.com/trails/aldergr...   \n",
       "\n",
       "                                         description  \n",
       "0  The Abby Grind is a steep hike that gains abou...  \n",
       "1  Located in Belcarra Regional Park, Admiralty P...  \n",
       "2  Starting from the top of the Sea To Sky Gondol...  \n",
       "3  Alaksen National Wildlife Area is only openMon...  \n",
       "4  Aldergrove Regional Park is located on the bor...  "
      ]
     },
     "execution_count": 74,
     "metadata": {},
     "output_type": "execute_result"
    }
   ],
   "source": [
    "df.head()"
   ]
  },
  {
   "cell_type": "code",
   "execution_count": 75,
   "metadata": {},
   "outputs": [
    {
     "name": "stdout",
     "output_type": "stream",
     "text": [
      "184\n",
      "43\n",
      "46\n",
      "69\n"
     ]
    }
   ],
   "source": [
    "print(sum(df['dog_friendly']))\n",
    "print(sum(df['no_dogs_allowed']))\n",
    "print(sum(df['camping']))\n",
    "print(sum(df['public_transit']))"
   ]
  },
  {
   "cell_type": "code",
   "execution_count": 77,
   "metadata": {},
   "outputs": [
    {
     "data": {
      "text/html": [
       "<div>\n",
       "<style scoped>\n",
       "    .dataframe tbody tr th:only-of-type {\n",
       "        vertical-align: middle;\n",
       "    }\n",
       "\n",
       "    .dataframe tbody tr th {\n",
       "        vertical-align: top;\n",
       "    }\n",
       "\n",
       "    .dataframe thead th {\n",
       "        text-align: right;\n",
       "    }\n",
       "</style>\n",
       "<table border=\"1\" class=\"dataframe\">\n",
       "  <thead>\n",
       "    <tr style=\"text-align: right;\">\n",
       "      <th></th>\n",
       "      <th>rating</th>\n",
       "      <th>time</th>\n",
       "      <th>distance</th>\n",
       "    </tr>\n",
       "  </thead>\n",
       "  <tbody>\n",
       "    <tr>\n",
       "      <th>count</th>\n",
       "      <td>227.000000</td>\n",
       "      <td>227.000000</td>\n",
       "      <td>227.000000</td>\n",
       "    </tr>\n",
       "    <tr>\n",
       "      <th>mean</th>\n",
       "      <td>3.432599</td>\n",
       "      <td>3.035242</td>\n",
       "      <td>7.242952</td>\n",
       "    </tr>\n",
       "    <tr>\n",
       "      <th>std</th>\n",
       "      <td>1.585218</td>\n",
       "      <td>2.347771</td>\n",
       "      <td>5.666820</td>\n",
       "    </tr>\n",
       "    <tr>\n",
       "      <th>min</th>\n",
       "      <td>0.000000</td>\n",
       "      <td>0.250000</td>\n",
       "      <td>0.500000</td>\n",
       "    </tr>\n",
       "    <tr>\n",
       "      <th>25%</th>\n",
       "      <td>3.400000</td>\n",
       "      <td>1.500000</td>\n",
       "      <td>3.000000</td>\n",
       "    </tr>\n",
       "    <tr>\n",
       "      <th>50%</th>\n",
       "      <td>4.000000</td>\n",
       "      <td>2.000000</td>\n",
       "      <td>5.500000</td>\n",
       "    </tr>\n",
       "    <tr>\n",
       "      <th>75%</th>\n",
       "      <td>4.400000</td>\n",
       "      <td>4.000000</td>\n",
       "      <td>9.900000</td>\n",
       "    </tr>\n",
       "    <tr>\n",
       "      <th>max</th>\n",
       "      <td>5.000000</td>\n",
       "      <td>12.000000</td>\n",
       "      <td>30.000000</td>\n",
       "    </tr>\n",
       "  </tbody>\n",
       "</table>\n",
       "</div>"
      ],
      "text/plain": [
       "           rating        time    distance\n",
       "count  227.000000  227.000000  227.000000\n",
       "mean     3.432599    3.035242    7.242952\n",
       "std      1.585218    2.347771    5.666820\n",
       "min      0.000000    0.250000    0.500000\n",
       "25%      3.400000    1.500000    3.000000\n",
       "50%      4.000000    2.000000    5.500000\n",
       "75%      4.400000    4.000000    9.900000\n",
       "max      5.000000   12.000000   30.000000"
      ]
     },
     "execution_count": 77,
     "metadata": {},
     "output_type": "execute_result"
    }
   ],
   "source": [
    "df.describe()"
   ]
  },
  {
   "cell_type": "markdown",
   "metadata": {},
   "source": [
    "### Retrieval"
   ]
  },
  {
   "cell_type": "code",
   "execution_count": null,
   "metadata": {},
   "outputs": [],
   "source": []
  }
 ],
 "metadata": {
  "kernelspec": {
   "display_name": "Python 3",
   "language": "python",
   "name": "python3"
  },
  "language_info": {
   "codemirror_mode": {
    "name": "ipython",
    "version": 3
   },
   "file_extension": ".py",
   "mimetype": "text/x-python",
   "name": "python",
   "nbconvert_exporter": "python",
   "pygments_lexer": "ipython3",
   "version": "3.11.13"
  }
 },
 "nbformat": 4,
 "nbformat_minor": 2
}
